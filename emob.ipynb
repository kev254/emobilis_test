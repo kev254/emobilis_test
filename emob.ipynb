{
 "cells": [
  {
   "cell_type": "code",
   "execution_count": 4,
   "id": "ca7bcf5c-62b9-4795-b157-e06246872f9c",
   "metadata": {},
   "outputs": [
    {
     "name": "stdout",
     "output_type": "stream",
     "text": [
      "Original Linked List:\n",
      "1 -> 2 -> 3 -> 4 -> 5 -> None\n",
      "Reversed Linked List:\n",
      "5 -> 4 -> 3 -> 2 -> 1 -> None\n"
     ]
    }
   ],
   "source": [
    "class Node:\n",
    "    def __init__(self, data):\n",
    "        self.data = data\n",
    "        self.next = None\n",
    "\n",
    "class LinkedList:\n",
    "    def __init__(self):\n",
    "        self.head = None\n",
    "\n",
    "    def append(self, data):\n",
    "        new_node = Node(data)\n",
    "        if not self.head:\n",
    "            self.head = new_node\n",
    "            return\n",
    "        last_node = self.head\n",
    "        while last_node.next:\n",
    "            last_node = last_node.next\n",
    "        last_node.next = new_node\n",
    "\n",
    "    def display(self):\n",
    "        current = self.head\n",
    "        while current:\n",
    "            print(current.data, end=\" -> \")\n",
    "            current = current.next\n",
    "        print(\"None\")\n",
    "\n",
    "def reverse_linked_list(llist):\n",
    "    current = llist.head\n",
    "    prev = None\n",
    "\n",
    "    while current:\n",
    "        next_node = current.next\n",
    "        current.next = prev\n",
    "        prev = current\n",
    "        current = next_node\n",
    "\n",
    "    llist.head = prev\n",
    "\n",
    "# Invoking the reverse function:\n",
    "if __name__ == \"__main__\":\n",
    "    linked_list = LinkedList()\n",
    "    linked_list.append(1)\n",
    "    linked_list.append(2)\n",
    "    linked_list.append(3)\n",
    "    linked_list.append(4)\n",
    "    linked_list.append(5)\n",
    "\n",
    "    print(\"Original Linked List:\")\n",
    "    linked_list.display()\n",
    "\n",
    "    reverse_linked_list(linked_list)\n",
    "\n",
    "    print(\"Reversed Linked List:\")\n",
    "    linked_list.display()\n"
   ]
  },
  {
   "cell_type": "code",
   "execution_count": null,
   "id": "66df8993-0aef-4d55-aa4a-325a87d03e8a",
   "metadata": {},
   "outputs": [],
   "source": []
  },
  {
   "cell_type": "code",
   "execution_count": null,
   "id": "faaec58c-7fc8-4ba9-8ee4-e1539461bc99",
   "metadata": {},
   "outputs": [],
   "source": []
  }
 ],
 "metadata": {
  "kernelspec": {
   "display_name": "Python 3 (ipykernel)",
   "language": "python",
   "name": "python3"
  },
  "language_info": {
   "codemirror_mode": {
    "name": "ipython",
    "version": 3
   },
   "file_extension": ".py",
   "mimetype": "text/x-python",
   "name": "python",
   "nbconvert_exporter": "python",
   "pygments_lexer": "ipython3",
   "version": "3.11.6"
  }
 },
 "nbformat": 4,
 "nbformat_minor": 5
}
